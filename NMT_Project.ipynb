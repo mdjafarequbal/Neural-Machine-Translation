{
 "cells": [
  {
   "cell_type": "markdown",
   "id": "e45ca548",
   "metadata": {},
   "source": [
    "#  Neural Machine Translation (NMT) Project\n",
    "This project demonstrates a simple NMT model using TensorFlow and NumPy to translate English to French."
   ]
  },
  {
   "cell_type": "code",
   "execution_count": 2,
   "id": "0da0fc2d-bd17-4de5-9767-6b47ed6d0310",
   "metadata": {},
   "outputs": [
    {
     "name": "stdout",
     "output_type": "stream",
     "text": [
      "Requirement already satisfied: tensorflow in c:\\programdata\\anaconda3\\envs\\testenv\\lib\\site-packages (1.14.0)\n",
      "Requirement already satisfied: numpy in c:\\programdata\\anaconda3\\envs\\testenv\\lib\\site-packages (1.21.6)\n",
      "Requirement already satisfied: absl-py>=0.7.0 in c:\\programdata\\anaconda3\\envs\\testenv\\lib\\site-packages (from tensorflow) (2.1.0)\n",
      "Requirement already satisfied: astor>=0.6.0 in c:\\programdata\\anaconda3\\envs\\testenv\\lib\\site-packages (from tensorflow) (0.8.1)\n",
      "Requirement already satisfied: gast>=0.2.0 in c:\\programdata\\anaconda3\\envs\\testenv\\lib\\site-packages (from tensorflow) (0.5.5)\n",
      "Requirement already satisfied: google-pasta>=0.1.6 in c:\\programdata\\anaconda3\\envs\\testenv\\lib\\site-packages (from tensorflow) (0.2.0)\n",
      "Requirement already satisfied: keras-applications>=1.0.6 in c:\\programdata\\anaconda3\\envs\\testenv\\lib\\site-packages (from tensorflow) (1.0.8)\n",
      "Requirement already satisfied: keras-preprocessing>=1.0.5 in c:\\programdata\\anaconda3\\envs\\testenv\\lib\\site-packages (from tensorflow) (1.1.2)\n",
      "Requirement already satisfied: six>=1.10.0 in c:\\programdata\\anaconda3\\envs\\testenv\\lib\\site-packages (from tensorflow) (1.16.0)\n",
      "Requirement already satisfied: protobuf>=3.6.1 in c:\\programdata\\anaconda3\\envs\\testenv\\lib\\site-packages (from tensorflow) (4.21.8)\n",
      "Requirement already satisfied: tensorboard<1.15.0,>=1.14.0 in c:\\programdata\\anaconda3\\envs\\testenv\\lib\\site-packages (from tensorflow) (1.14.0)\n",
      "Requirement already satisfied: tensorflow-estimator<1.15.0rc0,>=1.14.0rc0 in c:\\programdata\\anaconda3\\envs\\testenv\\lib\\site-packages (from tensorflow) (1.14.0)\n",
      "Requirement already satisfied: termcolor>=1.1.0 in c:\\programdata\\anaconda3\\envs\\testenv\\lib\\site-packages (from tensorflow) (2.3.0)\n",
      "Requirement already satisfied: wrapt>=1.11.1 in c:\\programdata\\anaconda3\\envs\\testenv\\lib\\site-packages (from tensorflow) (1.14.1)\n",
      "Requirement already satisfied: grpcio>=1.8.6 in c:\\programdata\\anaconda3\\envs\\testenv\\lib\\site-packages (from tensorflow) (1.12.1)\n",
      "Requirement already satisfied: wheel>=0.26 in c:\\programdata\\anaconda3\\envs\\testenv\\lib\\site-packages (from tensorflow) (0.42.0)\n",
      "Requirement already satisfied: h5py in c:\\programdata\\anaconda3\\envs\\testenv\\lib\\site-packages (from keras-applications>=1.0.6->tensorflow) (3.7.0)\n",
      "Requirement already satisfied: markdown>=2.6.8 in c:\\programdata\\anaconda3\\envs\\testenv\\lib\\site-packages (from tensorboard<1.15.0,>=1.14.0->tensorflow) (3.6)\n",
      "Requirement already satisfied: setuptools>=41.0.0 in c:\\programdata\\anaconda3\\envs\\testenv\\lib\\site-packages (from tensorboard<1.15.0,>=1.14.0->tensorflow) (69.0.3)\n",
      "Requirement already satisfied: werkzeug>=0.11.15 in c:\\programdata\\anaconda3\\envs\\testenv\\lib\\site-packages (from tensorboard<1.15.0,>=1.14.0->tensorflow) (2.2.3)\n",
      "Requirement already satisfied: importlib-metadata>=4.4 in c:\\programdata\\anaconda3\\envs\\testenv\\lib\\site-packages (from markdown>=2.6.8->tensorboard<1.15.0,>=1.14.0->tensorflow) (4.11.4)\n",
      "Requirement already satisfied: MarkupSafe>=2.1.1 in c:\\programdata\\anaconda3\\envs\\testenv\\lib\\site-packages (from werkzeug>=0.11.15->tensorboard<1.15.0,>=1.14.0->tensorflow) (2.1.1)\n",
      "Requirement already satisfied: zipp>=0.5 in c:\\programdata\\anaconda3\\envs\\testenv\\lib\\site-packages (from importlib-metadata>=4.4->markdown>=2.6.8->tensorboard<1.15.0,>=1.14.0->tensorflow) (3.15.0)\n",
      "Requirement already satisfied: typing-extensions>=3.6.4 in c:\\programdata\\anaconda3\\envs\\testenv\\lib\\site-packages (from importlib-metadata>=4.4->markdown>=2.6.8->tensorboard<1.15.0,>=1.14.0->tensorflow) (4.7.1)\n"
     ]
    }
   ],
   "source": [
    "!pip install tensorflow numpy"
   ]
  },
  {
   "cell_type": "markdown",
   "id": "123a8d16",
   "metadata": {},
   "source": [
    "##  Step 1: Install Required Libraries\n",
    "We start by installing necessary libraries."
   ]
  },
  {
   "cell_type": "code",
   "execution_count": 3,
   "id": "0e632ecc-108d-400f-9d0e-b99db5ac46a5",
   "metadata": {},
   "outputs": [],
   "source": [
    "import numpy as np\n",
    "import tensorflow as tf\n",
    "from tensorflow.keras.models import Model\n",
    "from tensorflow.keras.layers import Input, LSTM, Dense"
   ]
  },
  {
   "cell_type": "markdown",
   "id": "165e48ad",
   "metadata": {},
   "source": [
    "##  Step 2: Import Libraries\n",
    "Here we import TensorFlow, NumPy, and required Keras modules."
   ]
  },
  {
   "cell_type": "code",
   "execution_count": 4,
   "id": "8d1fbc94-9529-4ebb-8002-76e0fb5400e5",
   "metadata": {},
   "outputs": [],
   "source": [
    "data = [\n",
    "    (\"hello\", \"bonjour\"),\n",
    "    (\"how are you\", \"comment ça va\"),\n",
    "    (\"i am fine\", \"je vais bien\"),\n",
    "    (\"thank you\", \"merci\"),\n",
    "    (\"good morning\", \"bonjour\"),\n",
    "]\n",
    "\n",
    "input_texts = []\n",
    "target_texts = []\n",
    "input_characters = set()\n",
    "target_characters = set()\n",
    "\n",
    "for input_text, target_text in data:\n",
    "    target_text = '\\t' + target_text + '\\n'  # Start and end tokens\n",
    "    input_texts.append(input_text)\n",
    "    target_texts.append(target_text)\n",
    "    input_characters.update(set(input_text))\n",
    "    target_characters.update(set(target_text))\n",
    "\n",
    "input_characters = sorted(list(input_characters))\n",
    "target_characters = sorted(list(target_characters))\n",
    "input_token_index = dict([(char, i) for i, char in enumerate(input_characters)])\n",
    "target_token_index = dict([(char, i) for i, char in enumerate(target_characters)])\n",
    "\n",
    "max_encoder_seq_length = max([len(txt) for txt in input_texts])\n",
    "max_decoder_seq_length = max([len(txt) for txt in target_texts])\n",
    "num_encoder_tokens = len(input_characters)\n",
    "num_decoder_tokens = len(target_characters)\n"
   ]
  },
  {
   "cell_type": "markdown",
   "id": "ba2d6b9c",
   "metadata": {},
   "source": [
    "##  Step 3: Define Dataset\n",
    "We define our small set of English-French sentence pairs."
   ]
  },
  {
   "cell_type": "code",
   "execution_count": 5,
   "id": "2970362d-6eda-42cc-9ad6-2b3ebc17b782",
   "metadata": {},
   "outputs": [],
   "source": [
    "encoder_input_data = np.zeros((len(input_texts), max_encoder_seq_length, num_encoder_tokens), dtype=\"float32\")\n",
    "decoder_input_data = np.zeros((len(target_texts), max_decoder_seq_length, num_decoder_tokens), dtype=\"float32\")\n",
    "decoder_target_data = np.zeros((len(target_texts), max_decoder_seq_length, num_decoder_tokens), dtype=\"float32\")\n",
    "\n",
    "for i, (input_text, target_text) in enumerate(zip(input_texts, target_texts)):\n",
    "    for t, char in enumerate(input_text):\n",
    "        encoder_input_data[i, t, input_token_index[char]] = 1.0\n",
    "    for t, char in enumerate(target_text):\n",
    "        decoder_input_data[i, t, target_token_index[char]] = 1.0\n",
    "        if t > 0:\n",
    "            decoder_target_data[i, t - 1, target_token_index[char]] = 1.0\n"
   ]
  },
  {
   "cell_type": "markdown",
   "id": "58840562",
   "metadata": {},
   "source": [
    "##  Step 4: Data Preprocessing\n",
    "We tokenize the text and prepare the input and output sequences."
   ]
  },
  {
   "cell_type": "code",
   "execution_count": 6,
   "id": "f7f8bd6b-c1c9-44f3-a0b0-aa6758da2180",
   "metadata": {},
   "outputs": [],
   "source": [
    "latent_dim = 256\n",
    "\n",
    "encoder_inputs = Input(shape=(None, num_encoder_tokens))\n",
    "encoder_lstm = LSTM(latent_dim, return_state=True)\n",
    "encoder_outputs, state_h, state_c = encoder_lstm(encoder_inputs)\n",
    "encoder_states = [state_h, state_c]\n",
    "\n",
    "decoder_inputs = Input(shape=(None, num_decoder_tokens))\n",
    "decoder_lstm = LSTM(latent_dim, return_sequences=True, return_state=True)\n",
    "decoder_outputs, _, _ = decoder_lstm(decoder_inputs, initial_state=encoder_states)\n",
    "decoder_dense = Dense(num_decoder_tokens, activation=\"softmax\")\n",
    "decoder_outputs = decoder_dense(decoder_outputs)\n",
    "\n",
    "model = Model([encoder_inputs, decoder_inputs], decoder_outputs)\n",
    "model.compile(optimizer=\"rmsprop\", loss=\"categorical_crossentropy\")\n"
   ]
  },
  {
   "cell_type": "code",
   "execution_count": 7,
   "id": "f3be9320-7dd8-4562-a1d8-67ae79647825",
   "metadata": {},
   "outputs": [
    {
     "name": "stdout",
     "output_type": "stream",
     "text": [
      "Epoch 1/100\n",
      "5/5 [==============================] - 2s 473ms/sample - loss: 1.8831\n",
      "Epoch 2/100\n",
      "5/5 [==============================] - 0s 98ms/sample - loss: 1.8246\n",
      "Epoch 3/100\n",
      "5/5 [==============================] - 0s 93ms/sample - loss: 2.2816\n",
      "Epoch 4/100\n",
      "5/5 [==============================] - 1s 103ms/sample - loss: 1.7413\n",
      "Epoch 5/100\n",
      "5/5 [==============================] - 0s 90ms/sample - loss: 1.6854\n",
      "Epoch 6/100\n",
      "5/5 [==============================] - 0s 89ms/sample - loss: 1.6365\n",
      "Epoch 7/100\n",
      "5/5 [==============================] - 0s 94ms/sample - loss: 1.5774\n",
      "Epoch 8/100\n",
      "5/5 [==============================] - 0s 90ms/sample - loss: 1.4959\n",
      "Epoch 9/100\n",
      "5/5 [==============================] - 1s 108ms/sample - loss: 1.6846\n",
      "Epoch 10/100\n",
      "5/5 [==============================] - 0s 96ms/sample - loss: 1.4221\n",
      "Epoch 11/100\n",
      "5/5 [==============================] - 1s 108ms/sample - loss: 1.3705\n",
      "Epoch 12/100\n",
      "5/5 [==============================] - 1s 113ms/sample - loss: 1.2625\n",
      "Epoch 13/100\n",
      "5/5 [==============================] - 1s 108ms/sample - loss: 1.1753\n",
      "Epoch 14/100\n",
      "5/5 [==============================] - 1s 106ms/sample - loss: 1.1169\n",
      "Epoch 15/100\n",
      "5/5 [==============================] - 1s 104ms/sample - loss: 1.3282\n",
      "Epoch 16/100\n",
      "5/5 [==============================] - 0s 87ms/sample - loss: 1.3266\n",
      "Epoch 17/100\n",
      "5/5 [==============================] - 0s 94ms/sample - loss: 1.0660\n",
      "Epoch 18/100\n",
      "5/5 [==============================] - 0s 99ms/sample - loss: 1.0963\n",
      "Epoch 19/100\n",
      "5/5 [==============================] - 0s 92ms/sample - loss: 1.0109\n",
      "Epoch 20/100\n",
      "5/5 [==============================] - 1s 134ms/sample - loss: 0.9838\n",
      "Epoch 21/100\n",
      "5/5 [==============================] - 0s 84ms/sample - loss: 0.8471\n",
      "Epoch 22/100\n",
      "5/5 [==============================] - 0s 88ms/sample - loss: 0.8385\n",
      "Epoch 23/100\n",
      "5/5 [==============================] - 0s 87ms/sample - loss: 1.0825\n",
      "Epoch 24/100\n",
      "5/5 [==============================] - 0s 89ms/sample - loss: 1.0745\n",
      "Epoch 25/100\n",
      "5/5 [==============================] - 0s 89ms/sample - loss: 0.8879\n",
      "Epoch 26/100\n",
      "5/5 [==============================] - 1s 130ms/sample - loss: 0.7897\n",
      "Epoch 27/100\n",
      "5/5 [==============================] - 1s 108ms/sample - loss: 0.7781\n",
      "Epoch 28/100\n",
      "5/5 [==============================] - 1s 115ms/sample - loss: 0.9434\n",
      "Epoch 29/100\n",
      "5/5 [==============================] - 0s 81ms/sample - loss: 0.7745\n",
      "Epoch 30/100\n",
      "5/5 [==============================] - 1s 162ms/sample - loss: 0.7827\n",
      "Epoch 31/100\n",
      "5/5 [==============================] - 1s 105ms/sample - loss: 0.8154\n",
      "Epoch 32/100\n",
      "5/5 [==============================] - 1s 107ms/sample - loss: 0.5866\n",
      "Epoch 33/100\n",
      "5/5 [==============================] - 1s 107ms/sample - loss: 0.7295\n",
      "Epoch 34/100\n",
      "5/5 [==============================] - 1s 108ms/sample - loss: 0.6407\n",
      "Epoch 35/100\n",
      "5/5 [==============================] - 1s 103ms/sample - loss: 0.7881\n",
      "Epoch 36/100\n",
      "5/5 [==============================] - 0s 90ms/sample - loss: 0.5421\n",
      "Epoch 37/100\n",
      "5/5 [==============================] - 0s 98ms/sample - loss: 0.6603\n",
      "Epoch 38/100\n",
      "5/5 [==============================] - 0s 96ms/sample - loss: 0.7503\n",
      "Epoch 39/100\n",
      "5/5 [==============================] - 0s 93ms/sample - loss: 0.6909\n",
      "Epoch 40/100\n",
      "5/5 [==============================] - 0s 96ms/sample - loss: 0.6037\n",
      "Epoch 41/100\n",
      "5/5 [==============================] - 0s 96ms/sample - loss: 0.4934\n",
      "Epoch 42/100\n",
      "5/5 [==============================] - 0s 91ms/sample - loss: 0.9372\n",
      "Epoch 43/100\n",
      "5/5 [==============================] - 0s 96ms/sample - loss: 0.5497\n",
      "Epoch 44/100\n",
      "5/5 [==============================] - 0s 94ms/sample - loss: 0.5445\n",
      "Epoch 45/100\n",
      "5/5 [==============================] - 0s 96ms/sample - loss: 0.5970\n",
      "Epoch 46/100\n",
      "5/5 [==============================] - 0s 97ms/sample - loss: 0.4204\n",
      "Epoch 47/100\n",
      "5/5 [==============================] - 0s 96ms/sample - loss: 0.5720\n",
      "Epoch 48/100\n",
      "5/5 [==============================] - 1s 103ms/sample - loss: 0.4609\n",
      "Epoch 49/100\n",
      "5/5 [==============================] - 0s 93ms/sample - loss: 0.3459\n",
      "Epoch 50/100\n",
      "5/5 [==============================] - 0s 93ms/sample - loss: 0.3571\n",
      "Epoch 51/100\n",
      "5/5 [==============================] - 1s 110ms/sample - loss: 0.3125\n",
      "Epoch 52/100\n",
      "5/5 [==============================] - 1s 102ms/sample - loss: 0.5170\n",
      "Epoch 53/100\n",
      "5/5 [==============================] - 1s 105ms/sample - loss: 1.3767\n",
      "Epoch 54/100\n",
      "5/5 [==============================] - 0s 89ms/sample - loss: 0.4750\n",
      "Epoch 55/100\n",
      "5/5 [==============================] - 0s 94ms/sample - loss: 0.3881\n",
      "Epoch 56/100\n",
      "5/5 [==============================] - 0s 99ms/sample - loss: 0.3043\n",
      "Epoch 57/100\n",
      "5/5 [==============================] - 0s 93ms/sample - loss: 0.2677\n",
      "Epoch 58/100\n",
      "5/5 [==============================] - 0s 93ms/sample - loss: 0.2534\n",
      "Epoch 59/100\n",
      "5/5 [==============================] - 0s 93ms/sample - loss: 0.4443\n",
      "Epoch 60/100\n",
      "5/5 [==============================] - 0s 94ms/sample - loss: 0.4292\n",
      "Epoch 61/100\n",
      "5/5 [==============================] - 0s 93ms/sample - loss: 0.3480\n",
      "Epoch 62/100\n",
      "5/5 [==============================] - 0s 90ms/sample - loss: 0.2766\n",
      "Epoch 63/100\n",
      "5/5 [==============================] - 0s 97ms/sample - loss: 0.5617\n",
      "Epoch 64/100\n",
      "5/5 [==============================] - 0s 94ms/sample - loss: 0.2736\n",
      "Epoch 65/100\n",
      "5/5 [==============================] - 0s 93ms/sample - loss: 0.3913\n",
      "Epoch 66/100\n",
      "5/5 [==============================] - 1s 103ms/sample - loss: 0.2198\n",
      "Epoch 67/100\n",
      "5/5 [==============================] - 0s 97ms/sample - loss: 0.1924\n",
      "Epoch 68/100\n",
      "5/5 [==============================] - 1s 101ms/sample - loss: 0.1802\n",
      "Epoch 69/100\n",
      "5/5 [==============================] - 1s 106ms/sample - loss: 0.1744\n",
      "Epoch 70/100\n",
      "5/5 [==============================] - 0s 99ms/sample - loss: 0.1838\n",
      "Epoch 71/100\n",
      "5/5 [==============================] - 0s 99ms/sample - loss: 0.5053\n",
      "Epoch 72/100\n",
      "5/5 [==============================] - 0s 97ms/sample - loss: 0.5609\n",
      "Epoch 73/100\n",
      "5/5 [==============================] - 0s 92ms/sample - loss: 0.5874\n",
      "Epoch 74/100\n",
      "5/5 [==============================] - 1s 102ms/sample - loss: 0.9859\n",
      "Epoch 75/100\n",
      "5/5 [==============================] - 0s 91ms/sample - loss: 0.2972\n",
      "Epoch 76/100\n",
      "5/5 [==============================] - 0s 90ms/sample - loss: 0.2485\n",
      "Epoch 77/100\n",
      "5/5 [==============================] - 0s 96ms/sample - loss: 0.1685\n",
      "Epoch 78/100\n",
      "5/5 [==============================] - 0s 93ms/sample - loss: 0.1601\n",
      "Epoch 79/100\n",
      "5/5 [==============================] - 0s 87ms/sample - loss: 0.1412\n",
      "Epoch 80/100\n",
      "5/5 [==============================] - 0s 93ms/sample - loss: 0.1321\n",
      "Epoch 81/100\n",
      "5/5 [==============================] - 1s 137ms/sample - loss: 0.1273\n",
      "Epoch 82/100\n",
      "5/5 [==============================] - 1s 116ms/sample - loss: 0.1292\n",
      "Epoch 83/100\n",
      "5/5 [==============================] - 0s 97ms/sample - loss: 0.3421\n",
      "Epoch 84/100\n",
      "5/5 [==============================] - 0s 97ms/sample - loss: 0.4246\n",
      "Epoch 85/100\n",
      "5/5 [==============================] - 0s 97ms/sample - loss: 0.3979\n",
      "Epoch 86/100\n",
      "5/5 [==============================] - 0s 93ms/sample - loss: 0.1808\n",
      "Epoch 87/100\n",
      "5/5 [==============================] - 0s 93ms/sample - loss: 0.1230\n",
      "Epoch 88/100\n",
      "5/5 [==============================] - 0s 94ms/sample - loss: 0.1433\n",
      "Epoch 89/100\n",
      "5/5 [==============================] - 0s 97ms/sample - loss: 0.1983\n",
      "Epoch 90/100\n",
      "5/5 [==============================] - 0s 93ms/sample - loss: 0.2583\n",
      "Epoch 91/100\n",
      "5/5 [==============================] - 0s 93ms/sample - loss: 0.1262\n",
      "Epoch 92/100\n",
      "5/5 [==============================] - 0s 90ms/sample - loss: 0.1070\n",
      "Epoch 93/100\n",
      "5/5 [==============================] - 1s 110ms/sample - loss: 0.1250\n",
      "Epoch 94/100\n",
      "5/5 [==============================] - 1s 100ms/sample - loss: 0.1972\n",
      "Epoch 95/100\n",
      "5/5 [==============================] - 1s 109ms/sample - loss: 0.2011\n",
      "Epoch 96/100\n",
      "5/5 [==============================] - 0s 96ms/sample - loss: 0.1767\n",
      "Epoch 97/100\n",
      "5/5 [==============================] - 0s 94ms/sample - loss: 0.2029\n",
      "Epoch 98/100\n",
      "5/5 [==============================] - 0s 92ms/sample - loss: 0.8134\n",
      "Epoch 99/100\n",
      "5/5 [==============================] - 0s 93ms/sample - loss: 0.1317\n",
      "Epoch 100/100\n",
      "5/5 [==============================] - 0s 97ms/sample - loss: 0.1042\n"
     ]
    },
    {
     "data": {
      "text/plain": [
       "<tensorflow.python.keras.callbacks.History at 0x228fdfe0c48>"
      ]
     },
     "execution_count": 7,
     "metadata": {},
     "output_type": "execute_result"
    }
   ],
   "source": [
    "model.fit([encoder_input_data, decoder_input_data], decoder_target_data, batch_size=2, epochs=100)\n"
   ]
  },
  {
   "cell_type": "code",
   "execution_count": 8,
   "id": "69a34612-c88e-455a-9996-65ef05b88e88",
   "metadata": {},
   "outputs": [],
   "source": [
    "encoder_model = Model(encoder_inputs, encoder_states)\n",
    "\n",
    "decoder_state_input_h = Input(shape=(latent_dim,))\n",
    "decoder_state_input_c = Input(shape=(latent_dim,))\n",
    "decoder_states_inputs = [decoder_state_input_h, decoder_state_input_c]\n",
    "\n",
    "decoder_outputs, state_h, state_c = decoder_lstm(decoder_inputs, initial_state=decoder_states_inputs)\n",
    "decoder_states = [state_h, state_c]\n",
    "decoder_outputs = decoder_dense(decoder_outputs)\n",
    "decoder_model = Model([decoder_inputs] + decoder_states_inputs, [decoder_outputs] + decoder_states)  # Define inference decoder model\n"
   ]
  },
  {
   "cell_type": "markdown",
   "id": "9e29a00b",
   "metadata": {},
   "source": [
    "##  Step 5: Build the Model\n",
    "We create the encoder-decoder architecture for translation."
   ]
  },
  {
   "cell_type": "code",
   "execution_count": 9,
   "id": "bb32457e-7a51-4965-b5bb-d051df582285",
   "metadata": {},
   "outputs": [],
   "source": [
    "reverse_input_char_index = dict((i, char) for char, i in input_token_index.items())\n",
    "reverse_target_char_index = dict((i, char) for char, i in target_token_index.items())\n",
    "\n",
    "def encode_input_text(text):\n",
    "    encoder_input = np.zeros((1, max_encoder_seq_length, num_encoder_tokens), dtype=\"float32\")\n",
    "    for t, char in enumerate(text):\n",
    "        if char in input_token_index:\n",
    "            encoder_input[0, t, input_token_index[char]] = 1.0\n",
    "    return encoder_input\n",
    "\n",
    "def decode_sequence(input_seq):  # Define function to decode input sequence to target\n",
    "    states_value = encoder_model.predict(input_seq)\n",
    "    target_seq = np.zeros((1, 1, num_decoder_tokens))\n",
    "    target_seq[0, 0, target_token_index['\\t']] = 1.0\n",
    "    stop_condition = False\n",
    "    decoded_sentence = ''\n",
    "    while not stop_condition:\n",
    "        output_tokens, h, c = decoder_model.predict([target_seq] + states_value)\n",
    "        sampled_token_index = np.argmax(output_tokens[0, -1, :])\n",
    "        sampled_char = reverse_target_char_index[sampled_token_index]\n",
    "        decoded_sentence += sampled_char\n",
    "        if sampled_char == '\\n' or len(decoded_sentence) > max_decoder_seq_length:\n",
    "            stop_condition = True\n",
    "        target_seq = np.zeros((1, 1, num_decoder_tokens))\n",
    "        target_seq[0, 0, sampled_token_index] = 1.0\n",
    "        states_value = [h, c]\n",
    "    return decoded_sentence.strip()\n"
   ]
  },
  {
   "cell_type": "code",
   "execution_count": 10,
   "id": "7edbae10-b24a-48dc-8294-0fea2a70026c",
   "metadata": {},
   "outputs": [
    {
     "name": "stdout",
     "output_type": "stream",
     "text": [
      "English: hello\n",
      "French: bonjour\n"
     ]
    }
   ],
   "source": [
    "user_input = \"hello\"\n",
    "input_seq = encode_input_text(user_input.lower())\n",
    "print(\"English:\", user_input)\n",
    "print(\"French:\", decode_sequence(input_seq))\n"
   ]
  },
  {
   "cell_type": "code",
   "execution_count": 15,
   "id": "50e3a3b5-ec6e-4280-bac6-e15c92ce2000",
   "metadata": {},
   "outputs": [
    {
     "name": "stdout",
     "output_type": "stream",
     "text": [
      "English: How are you\n",
      "French: comment ça va\n"
     ]
    }
   ],
   "source": [
    "user_input = \"How are you\"\n",
    "input_seq = encode_input_text(user_input.lower())\n",
    "print(\"English:\", user_input)\n",
    "print(\"French:\", decode_sequence(input_seq))\n"
   ]
  },
  {
   "cell_type": "markdown",
   "id": "5402db0f",
   "metadata": {},
   "source": [
    "##  Conclusion\n",
    "This notebook shows a basic implementation of an NMT model using encoder-decoder architecture."
   ]
  },
  {
   "cell_type": "markdown",
   "id": "41b39b38",
   "metadata": {},
   "source": [
    "##  Step 8: Translate New Sentences\n",
    "Function to decode and translate test sentences."
   ]
  },
  {
   "cell_type": "markdown",
   "id": "2995bd7c",
   "metadata": {},
   "source": [
    "##  Step 6: Train the Model\n",
    "Now we compile and fit the model with our training data."
   ]
  }
 ],
 "metadata": {
  "kernelspec": {
   "display_name": "Python [conda env:testenv]",
   "language": "python",
   "name": "conda-env-testenv-py"
  },
  "language_info": {
   "codemirror_mode": {
    "name": "ipython",
    "version": 3
   },
   "file_extension": ".py",
   "mimetype": "text/x-python",
   "name": "python",
   "nbconvert_exporter": "python",
   "pygments_lexer": "ipython3",
   "version": "3.7.12"
  }
 },
 "nbformat": 4,
 "nbformat_minor": 5
}
